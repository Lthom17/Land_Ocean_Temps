{
 "cells": [
  {
   "cell_type": "code",
   "execution_count": 115,
   "id": "bb32419d",
   "metadata": {},
   "outputs": [],
   "source": [
    "import pandas as pd\n",
    "import numpy as np\n",
    "import matplotlib.pyplot as plt\n",
    "import seaborn as sb\n",
    "from matplotlib.ticker import MultipleLocator\n",
    "\n",
    "%matplotlib inline"
   ]
  },
  {
   "cell_type": "code",
   "execution_count": 116,
   "id": "e850a98f",
   "metadata": {},
   "outputs": [
    {
     "data": {
      "text/html": [
       "<div>\n",
       "<style scoped>\n",
       "    .dataframe tbody tr th:only-of-type {\n",
       "        vertical-align: middle;\n",
       "    }\n",
       "\n",
       "    .dataframe tbody tr th {\n",
       "        vertical-align: top;\n",
       "    }\n",
       "\n",
       "    .dataframe thead th {\n",
       "        text-align: right;\n",
       "    }\n",
       "</style>\n",
       "<table border=\"1\" class=\"dataframe\">\n",
       "  <thead>\n",
       "    <tr style=\"text-align: right;\">\n",
       "      <th></th>\n",
       "      <th>Year</th>\n",
       "      <th>Value</th>\n",
       "    </tr>\n",
       "  </thead>\n",
       "  <tbody>\n",
       "    <tr>\n",
       "      <th>0</th>\n",
       "      <td>1880</td>\n",
       "      <td>-0.13</td>\n",
       "    </tr>\n",
       "    <tr>\n",
       "      <th>1</th>\n",
       "      <td>1881</td>\n",
       "      <td>-0.09</td>\n",
       "    </tr>\n",
       "    <tr>\n",
       "      <th>2</th>\n",
       "      <td>1882</td>\n",
       "      <td>-0.10</td>\n",
       "    </tr>\n",
       "    <tr>\n",
       "      <th>3</th>\n",
       "      <td>1883</td>\n",
       "      <td>-0.19</td>\n",
       "    </tr>\n",
       "    <tr>\n",
       "      <th>4</th>\n",
       "      <td>1884</td>\n",
       "      <td>-0.27</td>\n",
       "    </tr>\n",
       "  </tbody>\n",
       "</table>\n",
       "</div>"
      ],
      "text/plain": [
       "   Year  Value\n",
       "0  1880  -0.13\n",
       "1  1881  -0.09\n",
       "2  1882  -0.10\n",
       "3  1883  -0.19\n",
       "4  1884  -0.27"
      ]
     },
     "execution_count": 116,
     "metadata": {},
     "output_type": "execute_result"
    }
   ],
   "source": [
    "df= pd.read_csv('data.csv', header=4)\n",
    "df.head()"
   ]
  },
  {
   "cell_type": "code",
   "execution_count": 117,
   "id": "b61bb0db",
   "metadata": {},
   "outputs": [
    {
     "data": {
      "text/html": [
       "<div>\n",
       "<style scoped>\n",
       "    .dataframe tbody tr th:only-of-type {\n",
       "        vertical-align: middle;\n",
       "    }\n",
       "\n",
       "    .dataframe tbody tr th {\n",
       "        vertical-align: top;\n",
       "    }\n",
       "\n",
       "    .dataframe thead th {\n",
       "        text-align: right;\n",
       "    }\n",
       "</style>\n",
       "<table border=\"1\" class=\"dataframe\">\n",
       "  <thead>\n",
       "    <tr style=\"text-align: right;\">\n",
       "      <th></th>\n",
       "      <th>Year</th>\n",
       "      <th>Value</th>\n",
       "    </tr>\n",
       "  </thead>\n",
       "  <tbody>\n",
       "    <tr>\n",
       "      <th>136</th>\n",
       "      <td>2016</td>\n",
       "      <td>0.99</td>\n",
       "    </tr>\n",
       "    <tr>\n",
       "      <th>137</th>\n",
       "      <td>2017</td>\n",
       "      <td>0.91</td>\n",
       "    </tr>\n",
       "    <tr>\n",
       "      <th>138</th>\n",
       "      <td>2018</td>\n",
       "      <td>0.82</td>\n",
       "    </tr>\n",
       "    <tr>\n",
       "      <th>139</th>\n",
       "      <td>2019</td>\n",
       "      <td>0.94</td>\n",
       "    </tr>\n",
       "    <tr>\n",
       "      <th>140</th>\n",
       "      <td>2020</td>\n",
       "      <td>0.98</td>\n",
       "    </tr>\n",
       "  </tbody>\n",
       "</table>\n",
       "</div>"
      ],
      "text/plain": [
       "     Year  Value\n",
       "136  2016   0.99\n",
       "137  2017   0.91\n",
       "138  2018   0.82\n",
       "139  2019   0.94\n",
       "140  2020   0.98"
      ]
     },
     "execution_count": 117,
     "metadata": {},
     "output_type": "execute_result"
    }
   ],
   "source": [
    "df.tail()"
   ]
  },
  {
   "cell_type": "code",
   "execution_count": 118,
   "id": "90e41520",
   "metadata": {},
   "outputs": [],
   "source": [
    "df = df.rename(columns={'Year':'year', 'Value': 'deg_diff_cel'})"
   ]
  },
  {
   "cell_type": "code",
   "execution_count": 119,
   "id": "4a7874bb",
   "metadata": {},
   "outputs": [
    {
     "data": {
      "text/plain": [
       "0      1880\n",
       "1      1881\n",
       "2      1882\n",
       "3      1883\n",
       "4      1884\n",
       "       ... \n",
       "136    2016\n",
       "137    2017\n",
       "138    2018\n",
       "139    2019\n",
       "140    2020\n",
       "Name: year, Length: 141, dtype: int64"
      ]
     },
     "execution_count": 119,
     "metadata": {},
     "output_type": "execute_result"
    }
   ],
   "source": [
    "df.year = df.year.astype(int)\n",
    "df.year"
   ]
  },
  {
   "cell_type": "code",
   "execution_count": 120,
   "id": "2e5d5991",
   "metadata": {},
   "outputs": [
    {
     "data": {
      "text/html": [
       "<div>\n",
       "<style scoped>\n",
       "    .dataframe tbody tr th:only-of-type {\n",
       "        vertical-align: middle;\n",
       "    }\n",
       "\n",
       "    .dataframe tbody tr th {\n",
       "        vertical-align: top;\n",
       "    }\n",
       "\n",
       "    .dataframe thead th {\n",
       "        text-align: right;\n",
       "    }\n",
       "</style>\n",
       "<table border=\"1\" class=\"dataframe\">\n",
       "  <thead>\n",
       "    <tr style=\"text-align: right;\">\n",
       "      <th></th>\n",
       "      <th>year</th>\n",
       "      <th>deg_diff_cel</th>\n",
       "      <th>deg_diff_fah</th>\n",
       "    </tr>\n",
       "  </thead>\n",
       "  <tbody>\n",
       "    <tr>\n",
       "      <th>0</th>\n",
       "      <td>1880</td>\n",
       "      <td>-0.13</td>\n",
       "      <td>-0.234</td>\n",
       "    </tr>\n",
       "    <tr>\n",
       "      <th>1</th>\n",
       "      <td>1881</td>\n",
       "      <td>-0.09</td>\n",
       "      <td>-0.162</td>\n",
       "    </tr>\n",
       "    <tr>\n",
       "      <th>2</th>\n",
       "      <td>1882</td>\n",
       "      <td>-0.10</td>\n",
       "      <td>-0.180</td>\n",
       "    </tr>\n",
       "    <tr>\n",
       "      <th>3</th>\n",
       "      <td>1883</td>\n",
       "      <td>-0.19</td>\n",
       "      <td>-0.342</td>\n",
       "    </tr>\n",
       "    <tr>\n",
       "      <th>4</th>\n",
       "      <td>1884</td>\n",
       "      <td>-0.27</td>\n",
       "      <td>-0.486</td>\n",
       "    </tr>\n",
       "  </tbody>\n",
       "</table>\n",
       "</div>"
      ],
      "text/plain": [
       "   year  deg_diff_cel  deg_diff_fah\n",
       "0  1880         -0.13        -0.234\n",
       "1  1881         -0.09        -0.162\n",
       "2  1882         -0.10        -0.180\n",
       "3  1883         -0.19        -0.342\n",
       "4  1884         -0.27        -0.486"
      ]
     },
     "execution_count": 120,
     "metadata": {},
     "output_type": "execute_result"
    }
   ],
   "source": [
    "df['deg_diff_fah'] = df['deg_diff_cel'].apply(lambda x:(9 * x / 5 + 32) - 32)\n",
    "df.head()"
   ]
  },
  {
   "cell_type": "code",
   "execution_count": 124,
   "id": "c3b3dd71",
   "metadata": {},
   "outputs": [],
   "source": [
    "def format_func1(value, tick_number):\n",
    "    number = \"{:.2f}\".format(value)\n",
    "    return r\"${0}^\\circ$C\".format(number)\n",
    "\n",
    "def format_func2(value, tick_number):\n",
    "    number = \"{:.2f}\".format(value)\n",
    "    return r\"${0}^\\circ$F\".format(number)\n",
    "    "
   ]
  },
  {
   "cell_type": "code",
   "execution_count": 126,
   "id": "62640dbd",
   "metadata": {},
   "outputs": [
    {
     "data": {
      "image/png": "[encoded data removed]",
      "text/plain": [
       "<Figure size 1332x756 with 2 Axes>"
      ]
     },
     "metadata": {
      "needs_background": "light"
     },
     "output_type": "display_data"
    }
   ],
   "source": [
    "years = df.year\n",
    "fig, ax = plt.subplots()\n",
    "fig.set_size_inches(18.5, 10.5, forward=True)\n",
    "ax.bar(years, df.deg_diff_cel)\n",
    "ax.set_yticks([-.60, -.40, -.20, 0.0, .20, .40, .60, .80, 1.0])\n",
    "ax.yaxis.set_major_formatter(plt.FuncFormatter(format_func1))\n",
    "#ax.yaxis.set_major_locator(MultipleLocator(.2))\n",
    "\n",
    "ax2=ax.twinx()\n",
    "ax2.bar(years, df.deg_diff_fah)\n",
    "ax2.set_yticks([-1.08, -.72, -.36, 0.0, .36, .72, 1.08, 1.44, 1.80])\n",
    "ax2.yaxis.set_major_formatter(plt.FuncFormatter(format_func2))\n",
    "\n",
    "plt.xticks(np.arange(years.min(), years.max() + 20 , 20))\n",
    "plt.ylabel('Degree Anomaly')\n",
    "plt.xlabel('Years')\n",
    "plt.title('January-December Temperature Anomalies');\n",
    "plt.xlim([1880, 2020]);\n",
    "\n"
   ]
  },
  {
   "cell_type": "code",
   "execution_count": 164,
   "id": "2bb9c066",
   "metadata": {
    "scrolled": true
   },
   "outputs": [
    {
     "data": {
      "image/png": "[encoded data removed]",
      "text/plain": [
       "<Figure size 1332x756 with 2 Axes>"
      ]
     },
     "metadata": {
      "needs_background": "light"
     },
     "output_type": "display_data"
    }
   ],
   "source": [
    "years = df.year\n",
    "fig, ax = plt.subplots()\n",
    "fig.set_size_inches(18.5, 10.5, forward=True)\n",
    "ax.bar(years, df.deg_diff_cel)\n",
    "ax.set_yticks([-.60, -.40, -.20, 0.0, .20, .40, .60, .80, 1.0])\n",
    "ax.yaxis.set_major_formatter(plt.FuncFormatter(format_func1))\n",
    "#ax.yaxis.set_major_locator(MultipleLocator(.2))\n",
    "\n",
    "ax2=ax.twinx()\n",
    "ax2.bar(years, df.deg_diff_fah, color=(df['deg_diff_fah'] > 0).map({True: '#b2172b',False: '#1f67ac'}))\n",
    "ax2.set_yticks([-1.08, -.72, -.36, 0.0, .36, .72, 1.08, 1.44, 1.80])\n",
    "ax2.yaxis.set_major_formatter(plt.FuncFormatter(format_func2))\n",
    "\n",
    "                    \n",
    "plt.xticks(np.arange(years.min(), years.max() + 20 , 20))\n",
    "plt.title('Global Land and Ocean \\nJanuary-December Temperature Anomalies', fontsize=14, loc='left')\n",
    "\n",
    "\n",
    "\n",
    "plt.xlim([1880, 2020]);\n"
   ]
  },
  {
   "cell_type": "code",
   "execution_count": null,
   "id": "23f9b496",
   "metadata": {},
   "outputs": [],
   "source": []
  }
 ],
 "metadata": {
  "hide_input": false,
  "kernelspec": {
   "display_name": "Python 3",
   "language": "python",
   "name": "python3"
  },
  "language_info": {
   "codemirror_mode": {
    "name": "ipython",
    "version": 3
   },
   "file_extension": ".py",
   "mimetype": "text/x-python",
   "name": "python",
   "nbconvert_exporter": "python",
   "pygments_lexer": "ipython3",
   "version": "3.8.8"
  }
 },
 "nbformat": 4,
 "nbformat_minor": 5
}
