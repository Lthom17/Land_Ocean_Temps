{
    "metadata": {
        "kernelspec": {
            "name": "SQL",
            "display_name": "SQL",
            "language": "sql"
        },
        "language_info": {
            "name": "sql",
            "version": ""
        },
        "extensions": {
            "azuredatastudio": {
                "version": 1,
                "views": []
            }
        }
    },
    "nbformat_minor": 2,
    "nbformat": 4,
    "cells": [
        {
            "cell_type": "markdown",
            "source": [
                "Remove Nan Alk values"
            ],
            "metadata": {
                "azdata_cell_guid": "45263670-e0c0-4f0c-8aae-321e55799e86"
            },
            "attachments": {}
        },
        {
            "cell_type": "code",
            "source": [
                "--DELETE FROM OTS WHERE ALK=0;\n",
                "SELECT * FROM OTS WHERE ALK=0;"
            ],
            "metadata": {
                "azdata_cell_guid": "27832f31-e479-462b-bbd7-648567f7fcc9"
            },
            "outputs": [
                {
                    "output_type": "display_data",
                    "data": {
                        "text/html": "(0 rows affected)"
                    },
                    "metadata": {}
                },
                {
                    "output_type": "display_data",
                    "data": {
                        "text/html": "Total execution time: 00:00:00.006"
                    },
                    "metadata": {}
                },
                {
                    "output_type": "execute_result",
                    "metadata": {},
                    "execution_count": 12,
                    "data": {
                        "application/vnd.dataresource+json": {
                            "schema": {
                                "fields": [
                                    {
                                        "name": "Station"
                                    },
                                    {
                                        "name": "Date"
                                    },
                                    {
                                        "name": "Excel"
                                    },
                                    {
                                        "name": "Decimal"
                                    },
                                    {
                                        "name": "Depth"
                                    },
                                    {
                                        "name": "Salinity"
                                    },
                                    {
                                        "name": "Temp"
                                    },
                                    {
                                        "name": "d13C_DIC"
                                    },
                                    {
                                        "name": "DIC"
                                    },
                                    {
                                        "name": "ALK"
                                    }
                                ]
                            },
                            "data": []
                        },
                        "text/html": [
                            "<table>",
                            "<tr><th>Station</th><th>Date</th><th>Excel</th><th>Decimal</th><th>Depth</th><th>Salinity</th><th>Temp</th><th>d13C_DIC</th><th>DIC</th><th>ALK</th></tr>",
                            "</table>"
                        ]
                    }
                }
            ],
            "execution_count": 12
        },
        {
            "cell_type": "code",
            "source": [
                "--SELECT Date, ALK FROM OTS\n",
                "--SELECT * FROM OTS WHERE ALK=0;\n",
                "--DELETE FROM OTS WHERE ALK=0;\n",
                "--SELECT * FROM OTS WHERE ALK=0;\n",
                "CREATE VIEW Alkalinity as\n",
                "SELECT DATE, ALK FROM OTS\n",
                ""
            ],
            "metadata": {
                "azdata_cell_guid": "c9985661-3324-4d0d-9552-17903cb9db0a",
                "tags": []
            },
            "outputs": [
                {
                    "output_type": "display_data",
                    "data": {
                        "text/html": "Commands completed successfully."
                    },
                    "metadata": {}
                },
                {
                    "output_type": "display_data",
                    "data": {
                        "text/html": "Total execution time: 00:00:00.174"
                    },
                    "metadata": {}
                }
            ],
            "execution_count": 15
        },
        {
            "cell_type": "markdown",
            "source": [
                "Export as a csv"
            ],
            "metadata": {
                "azdata_cell_guid": "cc626d45-7db7-4e98-afd2-46c460619a5b"
            },
            "attachments": {}
        },
        {
            "cell_type": "code",
            "source": [
                ""
            ],
            "metadata": {
                "azdata_cell_guid": "e1f80181-dbeb-441e-8b8d-fe8832ebf381"
            },
            "outputs": [],
            "execution_count": null
        }
    ]
}